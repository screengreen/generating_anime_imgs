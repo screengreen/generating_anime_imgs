{
  "cells": [
    {
      "cell_type": "code",
      "execution_count": 1,
      "metadata": {
        "colab": {
          "base_uri": "https://localhost:8080/"
        },
        "id": "8hG9WqKnYkC6",
        "outputId": "5ed761e8-1d92-409b-8903-999568746e0c"
      },
      "outputs": [
        {
          "name": "stdout",
          "output_type": "stream",
          "text": [
            "Requirement already satisfied: kaggle in /usr/local/lib/python3.10/dist-packages (1.5.16)\n",
            "Requirement already satisfied: six>=1.10 in /usr/local/lib/python3.10/dist-packages (from kaggle) (1.16.0)\n",
            "Requirement already satisfied: certifi in /usr/local/lib/python3.10/dist-packages (from kaggle) (2023.7.22)\n",
            "Requirement already satisfied: python-dateutil in /usr/local/lib/python3.10/dist-packages (from kaggle) (2.8.2)\n",
            "Requirement already satisfied: requests in /usr/local/lib/python3.10/dist-packages (from kaggle) (2.31.0)\n",
            "Requirement already satisfied: tqdm in /usr/local/lib/python3.10/dist-packages (from kaggle) (4.66.0)\n",
            "Requirement already satisfied: python-slugify in /usr/local/lib/python3.10/dist-packages (from kaggle) (8.0.1)\n",
            "Requirement already satisfied: urllib3 in /usr/local/lib/python3.10/dist-packages (from kaggle) (2.0.4)\n",
            "Requirement already satisfied: bleach in /usr/local/lib/python3.10/dist-packages (from kaggle) (6.0.0)\n",
            "Requirement already satisfied: webencodings in /usr/local/lib/python3.10/dist-packages (from bleach->kaggle) (0.5.1)\n",
            "Requirement already satisfied: text-unidecode>=1.3 in /usr/local/lib/python3.10/dist-packages (from python-slugify->kaggle) (1.3)\n",
            "Requirement already satisfied: charset-normalizer<4,>=2 in /usr/local/lib/python3.10/dist-packages (from requests->kaggle) (3.2.0)\n",
            "Requirement already satisfied: idna<4,>=2.5 in /usr/local/lib/python3.10/dist-packages (from requests->kaggle) (3.4)\n"
          ]
        }
      ],
      "source": [
        "#install kaggle to upload kaggle's dataset\n",
        "!pip install kaggle"
      ]
    },
    {
      "cell_type": "code",
      "execution_count": 3,
      "metadata": {
        "colab": {
          "base_uri": "https://localhost:8080/"
        },
        "id": "UhTpdbm9YrgG",
        "outputId": "d0a90f63-5ab1-42e7-8e34-835be64c8ded"
      },
      "outputs": [
        {
          "name": "stdout",
          "output_type": "stream",
          "text": [
            "Warning: Your Kaggle API key is readable by other users on this system! To fix this, you can run 'chmod 600 /root/.kaggle/kaggle.json'\n",
            "ref                                                     title                                             size  lastUpdated          downloadCount  voteCount  usabilityRating  \n",
            "------------------------------------------------------  -----------------------------------------------  -----  -------------------  -------------  ---------  ---------------  \n",
            "splcher/animefacedataset                                Anime Face Dataset                               395MB  2019-10-13 16:33:20          21347        316  0.9375           \n",
            "soumikrakshit/anime-faces                               Anime Faces                                      441MB  2019-05-16 10:38:47           9570        187  0.625            \n",
            "scribbless/another-anime-face-dataset                   another anime face dataset                         1GB  2021-04-24 12:42:57           2062         50  0.8125           \n",
            "subinium/highresolution-anime-face-dataset-512x512      High-Resolution Anime Face Dataset (512x512)      15GB  2021-05-25 17:32:29           1441         62  0.875            \n",
            "andy8744/ganyu-genshin-impact-anime-faces-gan-training  Ganyu | Genshin Impact Anime Faces GAN Training    1GB  2022-02-20 10:28:55            424         53  0.9375           \n",
            "andy8744/annotated-anime-faces-dataset                  Annotated Anime Faces Dataset                      1GB  2022-02-05 20:29:14            348         33  0.9375           \n",
            "andy8744/rezero-rem-anime-faces-for-gan-training        Re:Zero Rem Anime Faces For GAN Training         405MB  2022-02-13 19:26:10            360         37  0.875            \n",
            "tianbaiyutoby/animegirl-faces                           anime girl faces                                 291MB  2022-05-28 06:34:12            227         19  0.875            \n",
            "thedevastator/anime-face-dataset-by-character-name      Anime Faces Classification                        58MB  2022-09-02 12:54:38            120         16  0.875            \n",
            "mylesoneill/tagged-anime-illustrations                  Tagged Anime Illustrations                        36GB  2018-07-30 22:01:07           8337        361  0.625            \n",
            "aadilmalik94/animecharacterfaces                        anime-character-faces                            760MB  2019-05-13 23:47:15            791         20  0.375            \n",
            "reitanaka/alignedanimefaces                             Aligned Anime Faces                               97GB  2020-11-20 08:52:27            245         14  0.5              \n",
            "lunarwhite/anime-face-dataset-ntumlds                   Anime Face Dataset NTU-MLDS                      115MB  2021-06-14 03:01:37            686          6  0.4375           \n",
            "williamyujiegu/anime-face-256                           Anime face 256                                     6GB  2020-12-03 21:00:09             39          4  0.25             \n",
            "rignak/gochiusa-faces                                   GochiUsa_Faces                                    18GB  2022-05-13 07:17:58            346         28  0.9375           \n",
            "thanhtungphannguyen/animeface                           anime-face                                       113MB  2020-03-06 15:52:24              6          2  0.25             \n",
            "brendanartley/anime-faces-tfrecords                     Anime Faces TFrecords                            637MB  2021-01-14 00:12:56             13          3  0.5625           \n",
            "xxc025/animefaces                                       AnimeFaces                                       550MB  2019-03-28 08:46:26            170          6  0.5              \n",
            "lukexng/animefaces-512x512                              animefaces-danbooru                               11GB  2019-12-31 21:10:23            667         23  0.3125           \n",
            "mcparadip/anime-faces-waifu2x                           anime faces waifu2x                                2GB  2020-05-24 01:23:48            124          7  0.25             \n"
          ]
        }
      ],
      "source": [
        "#looking for a datasaet\n",
        "!mkdir -p ~/.kaggle\n",
        "!cp kaggle.json ~/.kaggle/\n",
        "!kaggle datasets list -s anime-face"
      ]
    },
    {
      "cell_type": "code",
      "execution_count": 4,
      "metadata": {
        "colab": {
          "base_uri": "https://localhost:8080/"
        },
        "id": "FM2-DIYAZ3Z-",
        "outputId": "18798c3d-ac75-4ca7-9ccb-8e4f276c1191"
      },
      "outputs": [
        {
          "name": "stdout",
          "output_type": "stream",
          "text": [
            "Warning: Your Kaggle API key is readable by other users on this system! To fix this, you can run 'chmod 600 /root/.kaggle/kaggle.json'\n",
            "Downloading animefacedataset.zip to /content\n",
            "100% 394M/395M [00:05<00:00, 42.5MB/s]\n",
            "100% 395M/395M [00:05<00:00, 70.2MB/s]\n"
          ]
        }
      ],
      "source": [
        "#downloading the dataset\n",
        "!kaggle datasets download -d splcher/animefacedataset"
      ]
    },
    {
      "cell_type": "code",
      "execution_count": 5,
      "metadata": {
        "id": "x2rjDKTBbNtx"
      },
      "outputs": [],
      "source": [
        "#mooving dataset to a dir\n",
        "!mkdir Dataset\n",
        "!cp /content/animefacedataset.zip /content/Dataset/animefacedataset.zip\n",
        "!unzip -q /content/Dataset/animefacedataset.zip -d /content/Dataset\n",
        "!rm /content/Dataset/animefacedataset.zip"
      ]
    },
    {
      "cell_type": "code",
      "execution_count": 8,
      "metadata": {
        "execution": {
          "iopub.execute_input": "2023-08-01T22:31:58.282125Z",
          "iopub.status.busy": "2023-08-01T22:31:58.281629Z",
          "iopub.status.idle": "2023-08-01T22:32:02.548295Z",
          "shell.execute_reply": "2023-08-01T22:32:02.547250Z",
          "shell.execute_reply.started": "2023-08-01T22:31:58.282097Z"
        },
        "id": "p34uwikPcqGR",
        "trusted": true
      },
      "outputs": [],
      "source": [
        "import os\n",
        "import cv2\n",
        "\n",
        "import torch; torch.manual_seed(145)\n",
        "import torch.nn as nn\n",
        "import torch.nn.functional as F\n",
        "import torch.utils\n",
        "import torch.distributions\n",
        "import torchvision\n",
        "import torchvision.transforms as transforms\n",
        "\n",
        "from tqdm import tqdm\n",
        "import numpy as np\n",
        "import matplotlib.pyplot as plt; plt.rcParams['figure.dpi'] = 200\n",
        "from PIL import Image\n"
      ]
    },
    {
      "cell_type": "code",
      "execution_count": 9,
      "metadata": {
        "colab": {
          "base_uri": "https://localhost:8080/",
          "height": 37
        },
        "execution": {
          "iopub.execute_input": "2023-08-01T22:32:02.550689Z",
          "iopub.status.busy": "2023-08-01T22:32:02.550135Z",
          "iopub.status.idle": "2023-08-01T22:32:02.621826Z",
          "shell.execute_reply": "2023-08-01T22:32:02.620717Z",
          "shell.execute_reply.started": "2023-08-01T22:32:02.550659Z"
        },
        "id": "9pTYnN1zc2BU",
        "outputId": "fb71e23c-fe07-4f29-95d4-6eb08df22b10",
        "trusted": true
      },
      "outputs": [
        {
          "data": {
            "application/vnd.google.colaboratory.intrinsic+json": {
              "type": "string"
            },
            "text/plain": [
              "'cuda'"
            ]
          },
          "execution_count": 9,
          "metadata": {},
          "output_type": "execute_result"
        }
      ],
      "source": [
        "device = 'cuda' if torch.cuda.is_available() else 'cpu'\n",
        "device"
      ]
    },
    {
      "cell_type": "code",
      "execution_count": 96,
      "metadata": {
        "execution": {
          "iopub.execute_input": "2023-08-01T22:32:08.528283Z",
          "iopub.status.busy": "2023-08-01T22:32:08.527934Z",
          "iopub.status.idle": "2023-08-01T22:32:08.538808Z",
          "shell.execute_reply": "2023-08-01T22:32:08.537812Z",
          "shell.execute_reply.started": "2023-08-01T22:32:08.528253Z"
        },
        "id": "TTjcRZ4dc7z-",
        "trusted": true
      },
      "outputs": [],
      "source": [
        "#making a custom dataset to change img to a needed format\n",
        "class IMG_dataset(torch.utils.data.Dataset):\n",
        "    def __init__(self, path_dir:str):\n",
        "        super().__init__()\n",
        "        self.path_dir = path_dir\n",
        "        self.dir_list = sorted([f for f in os.listdir(path_dir) if os.path.isfile(os.path.join(path_dir, f))]) #get filenames in a path dir\n",
        "        self.dir_list = self.dir_list\n",
        "\n",
        "        # self.dir_list = self.dir_list[:10000] #take only fist 10000 img\n",
        "\n",
        "\n",
        "    def __len__(self):\n",
        "        return len(self.dir_list)\n",
        "\n",
        "    def __getitem__(self, idx):\n",
        "        img_path = os.path.join(self.path_dir, self.dir_list[idx])\n",
        "        img = cv2.imread(img_path, cv2.IMREAD_COLOR)  # Load image as RGB\n",
        "        img = cv2.cvtColor(img, cv2.COLOR_BGR2RGB)  # Convert BGR to RGB\n",
        "        img = img.astype(np.float32) / 255.0    #normalizing images\n",
        "        img = cv2.resize(img, (64, 64), interpolation=cv2.INTER_LINEAR) #set size to img\n",
        "        img = img.transpose((2, 0, 1))\n",
        "        t_img = torch.from_numpy(img) #making a pytorch tensor from numpy array\n",
        "\n",
        "        return t_img"
      ]
    },
    {
      "cell_type": "code",
      "execution_count": 97,
      "metadata": {
        "id": "abkUvprEf1Q1"
      },
      "outputs": [],
      "source": [
        "train_face_path = \"/content/Dataset/images\" #path to the folder with img\n",
        "train_face = IMG_dataset(train_face_path)"
      ]
    },
    {
      "cell_type": "code",
      "execution_count": 98,
      "metadata": {
        "id": "HOlnkS2tfq1H"
      },
      "outputs": [],
      "source": [
        "#making a dataloader\n",
        "batch_size = 4\n",
        "\n",
        "train_loader = torch.utils.data.DataLoader(\n",
        "    train_face, shuffle=True,\n",
        "    batch_size=batch_size, num_workers=1, drop_last=True\n",
        ")\n"
      ]
    },
    {
      "cell_type": "code",
      "execution_count": 99,
      "metadata": {
        "colab": {
          "base_uri": "https://localhost:8080/"
        },
        "id": "j603PRHdhP-C",
        "outputId": "1fed586e-51fa-4aa9-be10-d2c1a9ba50d0"
      },
      "outputs": [
        {
          "name": "stdout",
          "output_type": "stream",
          "text": [
            "torch.Size([4, 3, 64, 64])\n"
          ]
        }
      ],
      "source": [
        "#check if the loader works and check img size\n",
        "for img in train_loader:\n",
        "  print(img.shape)\n",
        "  break"
      ]
    },
    {
      "cell_type": "code",
      "execution_count": 156,
      "metadata": {
        "execution": {
          "iopub.execute_input": "2023-08-01T22:33:50.963053Z",
          "iopub.status.busy": "2023-08-01T22:33:50.962307Z",
          "iopub.status.idle": "2023-08-01T22:33:50.975791Z",
          "shell.execute_reply": "2023-08-01T22:33:50.974517Z",
          "shell.execute_reply.started": "2023-08-01T22:33:50.963019Z"
        },
        "id": "bqKxfx4ihUTp",
        "trusted": true
      },
      "outputs": [],
      "source": [
        "#making the encoder architecture\n",
        "class Encoder(nn.Module):\n",
        "  def __init__(self, input_channels=3, hidden_dims=64):\n",
        "    super(Encoder, self).__init__()\n",
        "    self.act = nn.ReLU()\n",
        "    self.maxpool = nn.MaxPool2d(2, 2)\n",
        "\n",
        "    self.conv1 = nn.Conv2d(input_channels, 32, kernel_size=3, stride=1, padding=1)\n",
        "    self.conv2 = nn.Conv2d(32, 64, kernel_size=3, stride=1, padding=1)\n",
        "    self.conv3 = nn.Conv2d(64, 128, kernel_size=3, stride=1, padding=1)\n",
        "\n",
        "    self.linear1 = nn.Linear(8192, 128*4)\n",
        "    self.linear2 = nn.Linear(128*4, 128*2)\n",
        "    self.linear4mu = nn.Linear(128*2, hidden_dims)\n",
        "    self.linear4sigma = nn.Linear(128*2, hidden_dims)\n",
        "\n",
        "    self.N = torch.distributions.Normal(0, 1)\n",
        "    self.N.loc = self.N.loc.cuda() # hack to get sampling on the GPU\n",
        "    self.N.scale = self.N.scale.cuda()\n",
        "    self.kl = 0\n",
        "\n",
        "  def forward(self, x):\n",
        "    x = self.act(self.conv1(x))\n",
        "    x = self.maxpool(x)\n",
        "    x = self.act(self.conv2(x))\n",
        "    x = self.maxpool(x)\n",
        "    x = self.act(self.conv3(x))\n",
        "    x = self.maxpool(x)\n",
        "\n",
        "    x = x.view(x.size(0), -1)\n",
        "\n",
        "    x = self.act(self.linear1(x))\n",
        "    x = self.act(self.linear2(x))\n",
        "\n",
        "    mu = self.linear4mu(x)\n",
        "    sigma = torch.exp(self.linear4sigma(x))\n",
        "    z = mu + sigma*self.N.sample(mu.shape)\n",
        "    self.kl = (sigma**2 + mu**2 - torch.log(sigma) - 1/2).sum() #calculate kl divergense\n",
        "    return z"
      ]
    },
    {
      "cell_type": "code",
      "execution_count": 157,
      "metadata": {
        "execution": {
          "iopub.execute_input": "2023-08-01T22:33:51.779965Z",
          "iopub.status.busy": "2023-08-01T22:33:51.779603Z",
          "iopub.status.idle": "2023-08-01T22:33:51.790374Z",
          "shell.execute_reply": "2023-08-01T22:33:51.789166Z",
          "shell.execute_reply.started": "2023-08-01T22:33:51.779936Z"
        },
        "id": "VG575UmEsRrN",
        "trusted": true
      },
      "outputs": [],
      "source": [
        "#making a decoder class\n",
        "class Decoder(nn.Module):\n",
        "  def __init__(self, output_channels=3, hidden_dims=64):\n",
        "    super(Decoder, self).__init__()\n",
        "    self.act = nn.ReLU()\n",
        "    self.linear1 = nn.Linear(hidden_dims, 128*2)\n",
        "    self.linear2 = nn.Linear(128*2, 128*4)\n",
        "    self.linear3 = nn.Linear(128*4, 8192)\n",
        "\n",
        "    self.deconv1 = nn.ConvTranspose2d(128, 64, kernel_size=4, stride=2, padding=1)\n",
        "    self.deconv2 = nn.ConvTranspose2d(64, 32, kernel_size=4, stride=2, padding=1)\n",
        "    self.deconv3 = nn.ConvTranspose2d(32, output_channels, kernel_size=4, stride=2, padding=1)\n",
        "\n",
        "  def forward(self, z):\n",
        "    x = self.act(self.linear1(z))\n",
        "    x = self.act(self.linear2(x))\n",
        "    x = self.act(self.linear3(x))\n",
        "    x = x.view(4, 128, 8, 8)\n",
        "    x = self.act(self.deconv1(x))\n",
        "    x = self.act(self.deconv2(x))\n",
        "    reconstructed_images = torch.sigmoid(self.deconv3(x))\n",
        "\n",
        "    return reconstructed_images.reshape((4, 3, 64, 64))"
      ]
    },
    {
      "cell_type": "code",
      "execution_count": 158,
      "metadata": {
        "execution": {
          "iopub.execute_input": "2023-08-01T22:33:52.630288Z",
          "iopub.status.busy": "2023-08-01T22:33:52.629896Z",
          "iopub.status.idle": "2023-08-01T22:33:52.637317Z",
          "shell.execute_reply": "2023-08-01T22:33:52.635981Z",
          "shell.execute_reply.started": "2023-08-01T22:33:52.630253Z"
        },
        "id": "Mz57QhKYxYVn",
        "trusted": true
      },
      "outputs": [],
      "source": [
        "#combine the encoder and the decoder classes into a vae\n",
        "class VAE(nn.Module):\n",
        "  def __init__(self, output_channels=3, hidden_dims=64):\n",
        "    super(VAE, self).__init__()\n",
        "    self.encoder = Encoder(output_channels, hidden_dims)\n",
        "    self.decoder = Decoder(output_channels, hidden_dims)\n",
        "\n",
        "  def forward(self, x):\n",
        "    z = self.encoder(x)\n",
        "    return self.decoder(z)"
      ]
    },
    {
      "cell_type": "code",
      "execution_count": 159,
      "metadata": {
        "id": "w1PwN413x-_w"
      },
      "outputs": [],
      "source": [
        "#train the vae\n",
        "def train(autoencoder, data, epochs=12):\n",
        "    opt = torch.optim.Adam(autoencoder.parameters()) #set optimizer - Adam\n",
        "    device = torch.device(\"cuda\" if torch.cuda.is_available() else \"cpu\")\n",
        "\n",
        "    for epoch in range(epochs):\n",
        "        total_loss = 0.0\n",
        "        num_batches = 0\n",
        "\n",
        "        # Create a progress bar for the current epoch\n",
        "        progress_bar = tqdm(data, desc=f\"Epoch {epoch}/{epochs}\", unit=\"batch\")\n",
        "\n",
        "        for x in progress_bar:\n",
        "            x = x.to(device)\n",
        "            opt.zero_grad()\n",
        "            x_hat = autoencoder(x)\n",
        "            loss = ((x - x_hat) ** 2).sum() + autoencoder.encoder.kl\n",
        "            loss.backward()\n",
        "            opt.step()\n",
        "\n",
        "            total_loss += loss.item()\n",
        "            num_batches += 1\n",
        "\n",
        "            # Update the progress bar with the current loss\n",
        "            progress_bar.set_postfix(loss=total_loss / num_batches)\n",
        "\n",
        "        # Print the average loss for the epoch\n",
        "        avg_loss = total_loss / num_batches\n",
        "        print(f\"Epoch {epoch}/{epochs}, Average Loss: {avg_loss:.4f}\")\n",
        "\n",
        "    return autoencoder"
      ]
    },
    {
      "cell_type": "code",
      "execution_count": 160,
      "metadata": {
        "id": "YEYq_LhVyXP0"
      },
      "outputs": [],
      "source": [
        "hidden_dims = 128\n",
        "output_chanels = 3\n",
        "data = train_loader\n",
        "num_epochs = 4"
      ]
    },
    {
      "cell_type": "code",
      "execution_count": 161,
      "metadata": {
        "colab": {
          "base_uri": "https://localhost:8080/"
        },
        "id": "DDdVZ2cgbPIl",
        "outputId": "aed137d3-10da-489c-e673-620bfda5b35c"
      },
      "outputs": [
        {
          "data": {
            "text/plain": [
              "8968483"
            ]
          },
          "execution_count": 161,
          "metadata": {},
          "output_type": "execute_result"
        }
      ],
      "source": [
        "#info\n",
        "pytorch_total_params = sum(p.numel() for p in VAE().parameters() if p.requires_grad)\n",
        "pytorch_total_params"
      ]
    },
    {
      "cell_type": "code",
      "execution_count": 162,
      "metadata": {
        "colab": {
          "base_uri": "https://localhost:8080/"
        },
        "id": "-nKiWKoAyTRe",
        "outputId": "c392130d-1298-4b77-983d-6e365223627b"
      },
      "outputs": [
        {
          "name": "stderr",
          "output_type": "stream",
          "text": [
            "Epoch 0/4: 100%|██████████| 15891/15891 [03:30<00:00, 75.35batch/s, loss=2.15e+3]\n"
          ]
        },
        {
          "name": "stdout",
          "output_type": "stream",
          "text": [
            "Epoch 0/4, Average Loss: 2152.3308\n"
          ]
        },
        {
          "name": "stderr",
          "output_type": "stream",
          "text": [
            "Epoch 1/4: 100%|██████████| 15891/15891 [03:29<00:00, 75.84batch/s, loss=1.89e+3]\n"
          ]
        },
        {
          "name": "stdout",
          "output_type": "stream",
          "text": [
            "Epoch 1/4, Average Loss: 1887.7181\n"
          ]
        },
        {
          "name": "stderr",
          "output_type": "stream",
          "text": [
            "Epoch 2/4: 100%|██████████| 15891/15891 [03:29<00:00, 75.80batch/s, loss=1.82e+3]\n"
          ]
        },
        {
          "name": "stdout",
          "output_type": "stream",
          "text": [
            "Epoch 2/4, Average Loss: 1818.7203\n"
          ]
        },
        {
          "name": "stderr",
          "output_type": "stream",
          "text": [
            "Epoch 3/4: 100%|██████████| 15891/15891 [03:38<00:00, 72.84batch/s, loss=1.77e+3]"
          ]
        },
        {
          "name": "stdout",
          "output_type": "stream",
          "text": [
            "Epoch 3/4, Average Loss: 1770.7353\n"
          ]
        },
        {
          "name": "stderr",
          "output_type": "stream",
          "text": [
            "\n"
          ]
        }
      ],
      "source": [
        "#initializing vae\n",
        "vae = VAE(output_chanels, hidden_dims).to(device)\n",
        "vae = train(vae, data, num_epochs)"
      ]
    },
    {
      "cell_type": "code",
      "execution_count": 163,
      "metadata": {
        "id": "PQTXHK5gj3_e"
      },
      "outputs": [],
      "source": [
        "# Save the model\n",
        "torch.save(vae.state_dict(), \"my_model.pth\")"
      ]
    },
    {
      "cell_type": "code",
      "execution_count": null,
      "metadata": {
        "execution": {
          "iopub.execute_input": "2023-08-01T22:35:20.490551Z",
          "iopub.status.busy": "2023-08-01T22:35:20.490170Z",
          "iopub.status.idle": "2023-08-01T22:35:20.505970Z",
          "shell.execute_reply": "2023-08-01T22:35:20.504979Z",
          "shell.execute_reply.started": "2023-08-01T22:35:20.490519Z"
        },
        "id": "g8H6CAVdMvSH",
        "trusted": true
      },
      "outputs": [],
      "source": [
        "#loading a vae model if needed\n",
        "model_path = '/kaggle/input/vaemaking/my_vae.pth'\n",
        "# Load the model and map it to the CPU.\n",
        "loaded_state_dict = torch.load(model_path)\n",
        "\n",
        "#making a vae instanse to apply weights\n",
        "vae = VAE()\n",
        "#applying weights\n",
        "vae.load_state_dict(loaded_state_dict)"
      ]
    },
    {
      "cell_type": "code",
      "execution_count": 166,
      "metadata": {
        "colab": {
          "base_uri": "https://localhost:8080/",
          "height": 1000
        },
        "execution": {
          "iopub.execute_input": "2023-08-01T23:02:36.540817Z",
          "iopub.status.busy": "2023-08-01T23:02:36.540410Z",
          "iopub.status.idle": "2023-08-01T23:02:36.749786Z",
          "shell.execute_reply": "2023-08-01T23:02:36.748675Z",
          "shell.execute_reply.started": "2023-08-01T23:02:36.540785Z"
        },
        "id": "09pUU2yLunsZ",
        "outputId": "993240ae-e2bb-4e35-9023-830a19f680f2",
        "trusted": true
      },
      "outputs": [
        {
          "data": {
            "image/png": "[encoded data removed]",
            "text/plain": [
              "<Figure size 1280x960 with 1 Axes>"
            ]
          },
          "metadata": {},
          "output_type": "display_data"
        },
        {
          "data": {
            "image/png": "[encoded data removed]",
            "text/plain": [
              "<Figure size 1280x960 with 1 Axes>"
            ]
          },
          "metadata": {},
          "output_type": "display_data"
        },
        {
          "data": {
            "image/png": "[encoded data removed]",
            "text/plain": [
              "<Figure size 1280x960 with 1 Axes>"
            ]
          },
          "metadata": {},
          "output_type": "display_data"
        },
        {
          "data": {
            "image/png": "[encoded data removed]",
            "text/plain": [
              "<Figure size 1280x960 with 1 Axes>"
            ]
          },
          "metadata": {},
          "output_type": "display_data"
        }
      ],
      "source": [
        "## GENERATING AN IMG\n",
        "\n",
        "#generating a sample from normal distribution to generate a picture\n",
        "batch_size = 4\n",
        "z = vae.encoder.N.sample((batch_size, hidden_dims))\n",
        "\n",
        "\n",
        "#getting decoder's output for a z\n",
        "with torch.no_grad():\n",
        "    if torch.cuda.is_available():\n",
        "        z = z.cuda()\n",
        "        vae.decoder = vae.decoder.cuda()\n",
        "    reconstructed_image = vae.decoder(z)\n",
        "\n",
        "\n",
        "# Convert the tensor to a NumPy array\n",
        "image_np = reconstructed_image.squeeze(0).cpu().numpy()\n",
        "\n",
        "#the image is in range [0, 1], rescale it to [0, 255] for visualization\n",
        "image_np = (image_np * 255).astype(int)\n",
        "\n",
        "i=0\n",
        "for pic in range(4):\n",
        "  # Plot the image using matplotlib\n",
        "  plt.imshow(image_np[pic].transpose(1, 2, 0))\n",
        "  plt.axis('off')  # Remove axis ticks and labels\n",
        "  output_path = f'generated_image_{i}_third_gen.jpg'\n",
        "\n",
        "  plt.savefig(output_path) # save generated img\n",
        "\n",
        "  plt.show() #plot generated img\n",
        "  i+=1"
      ]
    }
  ],
  "metadata": {
    "accelerator": "GPU",
    "colab": {
      "gpuType": "T4",
      "provenance": []
    },
    "kernelspec": {
      "display_name": "Python 3",
      "name": "python3"
    },
    "language_info": {
      "codemirror_mode": {
        "name": "ipython",
        "version": 3
      },
      "file_extension": ".py",
      "mimetype": "text/x-python",
      "name": "python",
      "nbconvert_exporter": "python",
      "pygments_lexer": "ipython3",
      "version": "3.10.12"
    }
  },
  "nbformat": 4,
  "nbformat_minor": 0
}
